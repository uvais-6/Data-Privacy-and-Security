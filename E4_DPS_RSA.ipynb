{
  "nbformat": 4,
  "nbformat_minor": 0,
  "metadata": {
    "colab": {
      "provenance": [],
      "authorship_tag": "ABX9TyOhHFRDoaxfPzrpDEbTvE+l",
      "include_colab_link": true
    },
    "kernelspec": {
      "name": "python3",
      "display_name": "Python 3"
    },
    "language_info": {
      "name": "python"
    }
  },
  "cells": [
    {
      "cell_type": "markdown",
      "metadata": {
        "id": "view-in-github",
        "colab_type": "text"
      },
      "source": [
        "<a href=\"https://colab.research.google.com/github/uvais-6/Data-Privacy-and-Security/blob/main/E4_DPS_RSA.ipynb\" target=\"_parent\"><img src=\"https://colab.research.google.com/assets/colab-badge.svg\" alt=\"Open In Colab\"/></a>"
      ]
    },
    {
      "cell_type": "markdown",
      "source": [
        "**Implementation of RSA(Rivest–Shamir–Adleman) encryption for secure communication**"
      ],
      "metadata": {
        "id": "Z8q8uegjwiJ_"
      }
    },
    {
      "cell_type": "code",
      "source": [
        "pip install pycryptodome"
      ],
      "metadata": {
        "colab": {
          "base_uri": "https://localhost:8080/"
        },
        "id": "7B0QK3AesTR5",
        "outputId": "9ae81369-1d9a-4869-d78d-1a7609cdada5"
      },
      "execution_count": 1,
      "outputs": [
        {
          "output_type": "stream",
          "name": "stdout",
          "text": [
            "Collecting pycryptodome\n",
            "  Downloading pycryptodome-3.21.0-cp36-abi3-manylinux_2_17_x86_64.manylinux2014_x86_64.whl.metadata (3.4 kB)\n",
            "Downloading pycryptodome-3.21.0-cp36-abi3-manylinux_2_17_x86_64.manylinux2014_x86_64.whl (2.3 MB)\n",
            "\u001b[2K   \u001b[90m━━━━━━━━━━━━━━━━━━━━━━━━━━━━━━━━━━━━━━━━\u001b[0m \u001b[32m2.3/2.3 MB\u001b[0m \u001b[31m21.0 MB/s\u001b[0m eta \u001b[36m0:00:00\u001b[0m\n",
            "\u001b[?25hInstalling collected packages: pycryptodome\n",
            "Successfully installed pycryptodome-3.21.0\n"
          ]
        }
      ]
    },
    {
      "cell_type": "code",
      "source": [
        "from Crypto.PublicKey import RSA\n",
        "from Crypto.Cipher import PKCS1_OAEP\n",
        "import base64\n",
        "\n",
        "# Function to generate RSA Key Pair\n",
        "def generate_keys():\n",
        "    key = RSA.generate(2048)  # Generate a 2048-bit RSA key pair\n",
        "    private_key = key.export_key()  # Export the private key\n",
        "    public_key = key.publickey().export_key()  # Export the public key\n",
        "\n",
        "    # Save keys to files\n",
        "    with open(\"private.pem\", \"wb\") as priv_file:\n",
        "        priv_file.write(private_key)\n",
        "\n",
        "    with open(\"public.pem\", \"wb\") as pub_file:\n",
        "        pub_file.write(public_key)\n",
        "\n",
        "    print(\"RSA Key Pair Generated and Saved Successfully.\")\n",
        "\n",
        "# Function to encrypt a message using RSA Public Key\n",
        "def encrypt_message(message, public_key_path):\n",
        "    try:\n",
        "        with open(public_key_path, \"rb\") as pub_file:\n",
        "            public_key = RSA.import_key(pub_file.read())  # Load the public key\n",
        "        cipher = PKCS1_OAEP.new(public_key)  # Create a cipher object\n",
        "        encrypted_message = cipher.encrypt(message.encode())  # Encrypt the message\n",
        "        return base64.b64encode(encrypted_message).decode()  # Encode in base64\n",
        "    except Exception as e:\n",
        "        print(f\"Encryption Error: {e}\")\n",
        "        return None\n",
        "\n",
        "# Function to decrypt a message using RSA Private Key\n",
        "def decrypt_message(encrypted_message, private_key_path):\n",
        "    try:\n",
        "        with open(private_key_path, \"rb\") as priv_file:\n",
        "            private_key = RSA.import_key(priv_file.read())  # Load the private key\n",
        "        cipher = PKCS1_OAEP.new(private_key)  # Create a cipher object\n",
        "        decrypted_message = cipher.decrypt(base64.b64decode(encrypted_message))  # Decrypt message\n",
        "        return decrypted_message.decode()  # Convert bytes to string\n",
        "    except Exception as e:\n",
        "        print(f\"Decryption Error: {e}\")\n",
        "        return None\n",
        "\n",
        "# Main Execution\n",
        "if __name__ == \"__main__\":\n",
        "    # Step 1: Generate RSA Key Pair\n",
        "    generate_keys()\n",
        "\n",
        "    # Step 2: Encrypt a message\n",
        "    message = \"Hello, RSA Secure Communication!\"\n",
        "    encrypted = encrypt_message(message, \"public.pem\")\n",
        "    if encrypted:\n",
        "        print(f\"Encrypted Message: {encrypted}\")\n",
        "\n",
        "        # Step 3: Decrypt the message\n",
        "        decrypted = decrypt_message(encrypted, \"private.pem\")\n",
        "        if decrypted:\n",
        "            print(f\"Decrypted Message: {decrypted}\")"
      ],
      "metadata": {
        "colab": {
          "base_uri": "https://localhost:8080/"
        },
        "id": "xVk-dNu1slO3",
        "outputId": "c74dedfd-29eb-4216-de73-a5e10a781f3b"
      },
      "execution_count": 2,
      "outputs": [
        {
          "output_type": "stream",
          "name": "stdout",
          "text": [
            "RSA Key Pair Generated and Saved Successfully.\n",
            "Encrypted Message: bfoG9CojyOqQHNfO6EZ5Cqh9aTggyxotzqhydgVzIrWFWqwj+izVxVh6pR7s2SHnTI8sbmN1w4t2kZPTfB3DhtBMeqHzTLlQshUL9Q8K4vu8jtnKSKD0AS8/fUsL61LDwu1N2EZd9gv3ham+92WRhty7xJ4N4YjnQ3WmIaI4/l82XEV3A7UveaG+mhwitnVitRELGzvuWnjxg0PGS5riskmH89GxL2W28MkWrZx156/bzjo9SNwJfMEePFotccCIla1jIp80Xa3fbaIqJ4LwUlluVFTqOol1sas3KQzYpae/YHZ5Zqq5jN0tK9WAZ+DNEafUTQ0AXPBoudNau5PZTg==\n",
            "Decrypted Message: Hello, RSA Secure Communication!\n"
          ]
        }
      ]
    }
  ]
}