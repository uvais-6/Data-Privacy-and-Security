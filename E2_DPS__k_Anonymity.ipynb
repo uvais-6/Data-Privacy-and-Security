{
  "nbformat": 4,
  "nbformat_minor": 0,
  "metadata": {
    "colab": {
      "provenance": [],
      "authorship_tag": "ABX9TyPNGWRbQEpVq9z2kvlG1NuZ",
      "include_colab_link": true
    },
    "kernelspec": {
      "name": "python3",
      "display_name": "Python 3"
    },
    "language_info": {
      "name": "python"
    }
  },
  "cells": [
    {
      "cell_type": "markdown",
      "metadata": {
        "id": "view-in-github",
        "colab_type": "text"
      },
      "source": [
        "<a href=\"https://colab.research.google.com/github/uvais-6/Data-Privacy-and-Security/blob/main/E2_DPS__k_Anonymity.ipynb\" target=\"_parent\"><img src=\"https://colab.research.google.com/assets/colab-badge.svg\" alt=\"Open In Colab\"/></a>"
      ]
    },
    {
      "cell_type": "markdown",
      "source": [
        "**LAB-2**"
      ],
      "metadata": {
        "id": "QOZ8ttj1emtv"
      }
    },
    {
      "cell_type": "code",
      "source": [
        "import pandas as pd\n",
        "data = {\n",
        "    'Patient Name': ['John Doe', 'Jane Smith', 'Tom Brown','Emily Davis'],\n",
        "    'Age': [35, 42, 53, 24],\n",
        "    'Address': ['Main St', 'Oak Ave', 'Pine Rd', 'Maple Dr']\n",
        "}\n",
        "df = pd.DataFrame(data)\n",
        "print(df)"
      ],
      "metadata": {
        "id": "e_pK2clYY6gL",
        "colab": {
          "base_uri": "https://localhost:8080/"
        },
        "outputId": "b541b893-93d3-42be-c059-7c37526314b0"
      },
      "execution_count": null,
      "outputs": [
        {
          "output_type": "stream",
          "name": "stdout",
          "text": [
            "  Patient Name  Age   Address\n",
            "0     John Doe   35   Main St\n",
            "1   Jane Smith   42   Oak Ave\n",
            "2    Tom Brown   53   Pine Rd\n",
            "3  Emily Davis   24  Maple Dr\n"
          ]
        }
      ]
    },
    {
      "cell_type": "markdown",
      "source": [
        "**remove and replace direct identifiers**\n"
      ],
      "metadata": {
        "id": "V6FjwB0AeWKH"
      }
    },
    {
      "cell_type": "code",
      "source": [
        "df['Patient Name'] = ['Patient'+str(i+1)for i in range(len(df))]\n",
        "df['Address'] = ['Removed' for _ in range(len(df))]"
      ],
      "metadata": {
        "id": "aZdRz_-Tc2cN"
      },
      "execution_count": null,
      "outputs": []
    },
    {
      "cell_type": "markdown",
      "source": [
        "**generalize age to age range**"
      ],
      "metadata": {
        "id": "3b8ILZcledtc"
      }
    },
    {
      "cell_type": "code",
      "source": [
        "def age_range(age):\n",
        "  if 20<=age<=30:\n",
        "    return '20-30'\n",
        "  elif 31<=age<=40:\n",
        "    return '31-40'\n",
        "  elif 41<=age<=50:\n",
        "    return '41-50'\n",
        "  elif 51<=age<=60:\n",
        "    return '51-60'\n",
        "  else:\n",
        "    return 'Other'\n",
        "\n",
        "df['Age Range'] = df['Age'].apply(age_range)"
      ],
      "metadata": {
        "id": "INYK0wn7eUdQ"
      },
      "execution_count": null,
      "outputs": []
    },
    {
      "cell_type": "markdown",
      "source": [
        "**drop the original 'age' column to further anonymize the data**"
      ],
      "metadata": {
        "id": "vFCyNzAbgGZJ"
      }
    },
    {
      "cell_type": "code",
      "source": [
        "df = df.drop(columns=['Age'])"
      ],
      "metadata": {
        "id": "YUhny1SEhOyn"
      },
      "execution_count": null,
      "outputs": []
    },
    {
      "cell_type": "code",
      "source": [
        "print(df)"
      ],
      "metadata": {
        "colab": {
          "base_uri": "https://localhost:8080/"
        },
        "id": "lkgwAVtmhjcG",
        "outputId": "1e529928-4019-4962-e73e-c7269ab3c3df"
      },
      "execution_count": null,
      "outputs": [
        {
          "output_type": "stream",
          "name": "stdout",
          "text": [
            "  Patient Name  Address Age Range\n",
            "0     Patient1  Removed     31-40\n",
            "1     Patient2  Removed     41-50\n",
            "2     Patient3  Removed     51-60\n",
            "3     Patient4  Removed     20-30\n"
          ]
        }
      ]
    },
    {
      "cell_type": "markdown",
      "source": [
        "**COMBINED CODE**"
      ],
      "metadata": {
        "id": "ug9Y0pK8jCKv"
      }
    },
    {
      "source": [
        "import pandas as pd\n",
        "data = {\n",
        "    'Patient Name': ['John Doe', 'Jane Smith', 'Tom Brown','Emily Davis'],\n",
        "    'Age': [35, 42, 53, 24],\n",
        "    'Address': ['Main St', 'Oak Ave', 'Pine Rd', 'Maple Dr']\n",
        "}\n",
        "df = pd.DataFrame(data)\n",
        "print(df)\n",
        "df['Patient Name'] = ['Patient'+str(i+1)for i in range(len(df))]\n",
        "df['Address'] = ['Removed' for _ in range(len(df))]\n",
        "def age_range(age):\n",
        "  if 20<=age<=30:\n",
        "    return '20-30'\n",
        "  elif 31<=age<=40:\n",
        "    return '31-40'\n",
        "  elif 41<=age<=50:\n",
        "    return '41-50'\n",
        "  elif 51<=age<=60:\n",
        "    return '51-60'\n",
        "  else:\n",
        "    return 'Other'\n",
        "\n",
        "df['Age Range'] = df['Age'].apply(age_range)\n",
        "df = df.drop(columns=['Age'])\n",
        "print(df) # Corrected the indentation by removing the extra spaces"
      ],
      "cell_type": "code",
      "metadata": {
        "colab": {
          "base_uri": "https://localhost:8080/"
        },
        "id": "d9gOdH_Ki6xj",
        "outputId": "87b811bc-7e09-4d82-9f11-4fc034a5fccb"
      },
      "execution_count": null,
      "outputs": [
        {
          "output_type": "stream",
          "name": "stdout",
          "text": [
            "  Patient Name  Age   Address\n",
            "0     John Doe   35   Main St\n",
            "1   Jane Smith   42   Oak Ave\n",
            "2    Tom Brown   53   Pine Rd\n",
            "3  Emily Davis   24  Maple Dr\n",
            "  Patient Name  Address Age Range\n",
            "0     Patient1  Removed     31-40\n",
            "1     Patient2  Removed     41-50\n",
            "2     Patient3  Removed     51-60\n",
            "3     Patient4  Removed     20-30\n"
          ]
        }
      ]
    },
    {
      "cell_type": "code",
      "source": [
        "import pandas as pd\n",
        "data = {\n",
        "    'Patient Name': ['khabib', 'islam', 'usman','umar'],\n",
        "    'Age': [35, 42, 53, 24],\n",
        "    'Address': ['Main St', 'Oak Ave', 'Pine Rd', 'Maple Dr']\n",
        "}\n",
        "df = pd.DataFrame(data)\n",
        "print(df)"
      ],
      "metadata": {
        "colab": {
          "base_uri": "https://localhost:8080/"
        },
        "id": "BYM7ufnXjT-D",
        "outputId": "f218e378-c459-4115-84ac-1e81bba251be"
      },
      "execution_count": null,
      "outputs": [
        {
          "output_type": "stream",
          "name": "stdout",
          "text": [
            "  Patient Name  Age   Address\n",
            "0       khabib   35   Main St\n",
            "1        islam   42   Oak Ave\n",
            "2        usman   53   Pine Rd\n",
            "3         umar   24  Maple Dr\n"
          ]
        }
      ]
    },
    {
      "cell_type": "code",
      "source": [
        "import pandas as pd\n",
        "data = {\n",
        "    'Patient Name': ['John Doe', 'Jane Smith', 'Tom Brown','Emily Davis','khabib','islam','usman','umar'],\n",
        "    'Age': [25, 29, 31, 35, 35, 39, 42, 45],\n",
        "    'ZipCode': [12345,12345, 12345, 12345, 12345, 12345, 12345, 12345],\n",
        "    'Disease': ['Flu', 'Cold', 'Cancer', 'Flu', 'Cold', 'Cancer', 'Cold', 'Flu'],\n",
        "}\n",
        "df = pd.DataFrame(data)\n",
        "print(df)\n"
      ],
      "metadata": {
        "colab": {
          "base_uri": "https://localhost:8080/"
        },
        "id": "AtrHaPJVmaS1",
        "outputId": "7e3d9e9c-8321-4e85-93ea-18922830ccd6"
      },
      "execution_count": null,
      "outputs": [
        {
          "output_type": "stream",
          "name": "stdout",
          "text": [
            "  Patient Name  Age  ZipCode Disease\n",
            "0     John Doe   25    12345     Flu\n",
            "1   Jane Smith   29    12345    Cold\n",
            "2    Tom Brown   31    12345  Cancer\n",
            "3  Emily Davis   35    12345     Flu\n",
            "4       khabib   35    12345    Cold\n",
            "5        islam   39    12345  Cancer\n",
            "6        usman   42    12345    Cold\n",
            "7         umar   45    12345     Flu\n"
          ]
        }
      ]
    },
    {
      "source": [
        "import pandas as pd\n",
        "\n",
        "data = {\n",
        "    'Patient Name': ['John Doe', 'Jane Smith', 'Tom Brown','Emily Davis','khabib','islam','usman','umar'],\n",
        "    'Age': [25, 29, 31, 35, 35, 39, 42, 45],\n",
        "    'ZipCode': [12345, 12345, 12345, 12345, 12345, 12345, 12345, 12345],\n",
        "    'Disease': ['Flu', 'Cold', 'Cancer', 'Flu', 'Cold', 'Cancer', 'Cold', 'Flu'],\n",
        "}\n",
        "df = pd.DataFrame(data)\n",
        "print(\"Original Dataset:\")\n",
        "print(df)\n",
        "\n",
        "print(\"\\nAnonymized Dataset:\")\n",
        "df['Patient Name'] = ['Patient' + str(i + 1) for i in range(len(df))]\n",
        "df['Address'] = ['Removed' for _ in range(len(df))]\n",
        "def age_range(age):\n",
        "    if 20 <= age <= 29:\n",
        "        return '20-29'\n",
        "    elif 30 <= age <= 39:\n",
        "        return '30-39'\n",
        "    elif 40 <= age <= 49:\n",
        "        return '40-49'\n",
        "    elif 50 <= age <= 59:\n",
        "        return '50-59'\n",
        "    else:\n",
        "        return 'Other'\n",
        "\n",
        "df['Age Range'] = df['Age'].apply(age_range)\n",
        "df['ZipCode'] = df['ZipCode'].astype(str).str[:3] + 'XX'\n",
        "df = df.drop(columns=['Age'])\n",
        "print(df)"
      ],
      "cell_type": "code",
      "metadata": {
        "colab": {
          "base_uri": "https://localhost:8080/"
        },
        "id": "V09oKv-IqBIc",
        "outputId": "fd0bf4f2-3d6f-4a2e-97bd-c6d126a169c1"
      },
      "execution_count": null,
      "outputs": [
        {
          "output_type": "stream",
          "name": "stdout",
          "text": [
            "Original Dataset:\n",
            "  Patient Name  Age  ZipCode Disease\n",
            "0     John Doe   25    12345     Flu\n",
            "1   Jane Smith   29    12345    Cold\n",
            "2    Tom Brown   31    12345  Cancer\n",
            "3  Emily Davis   35    12345     Flu\n",
            "4       khabib   35    12345    Cold\n",
            "5        islam   39    12345  Cancer\n",
            "6        usman   42    12345    Cold\n",
            "7         umar   45    12345     Flu\n",
            "\n",
            "Anonymized Dataset:\n",
            "  Patient Name ZipCode Disease  Address Age Range\n",
            "0     Patient1   123XX     Flu  Removed     20-29\n",
            "1     Patient2   123XX    Cold  Removed     20-29\n",
            "2     Patient3   123XX  Cancer  Removed     30-39\n",
            "3     Patient4   123XX     Flu  Removed     30-39\n",
            "4     Patient5   123XX    Cold  Removed     30-39\n",
            "5     Patient6   123XX  Cancer  Removed     30-39\n",
            "6     Patient7   123XX    Cold  Removed     40-49\n",
            "7     Patient8   123XX     Flu  Removed     40-49\n"
          ]
        }
      ]
    },
    {
      "cell_type": "code",
      "source": [
        "import pandas as pd\n",
        "from collections import Counter\n",
        "# Sample dataset\n",
        "raw_data = pd.DataFrame({\n",
        "'Age': [25, 26, 27, 27, 28, 29, 30, 30, 31, 31],\n",
        "'Zipcode': ['12345', '12346', '12345', '12345', '12346', '12346', '12347', '12347', '12348', '12348'],\n",
        "'Disease': ['Flu', 'Cold', 'Cancer', 'Flu', 'Cold', 'Diabetes', 'Flu', 'Cold', 'Cancer', 'Diabetes']\n",
        "})\n",
        "print(\"Original Dataset:\")\n",
        "print(raw_data)\n",
        "# Step 1: Apply k-Anonymity (Generalizing Age and Zipcode)\n",
        "def generalize_age(age):\n",
        "    # Indented the return statement to be part of the function body\n",
        "    return f\"{(age // 5) * 5}-{((age // 5) * 5) + 4}\"\n",
        "def generalize_zip(zipcode):\n",
        "    # Indented the return statement to be part of the function body\n",
        "    return zipcode[2:] + \"XX\" # Mask last two digits\n",
        "raw_data['Generalized_Age'] = raw_data['Age'].apply(generalize_age)\n",
        "raw_data['Generalized_Zipcode'] = raw_data['Zipcode'].apply(generalize_zip)\n",
        "# Drop original quasi-identifiers\n",
        "anonymized_data = raw_data.drop(columns=['Age', 'Zipcode'])\n",
        "print(\"\\nAfter Applying k-Anonymity:\")\n",
        "print(anonymized_data)\n",
        "# Step 2: Check l-Diversity (at least l diverse sensitive values per group)\n",
        "def check_l_diversity(df, quasi_identifiers, sensitive_attribute, l):\n",
        "    grouped = df.groupby(quasi_identifiers)\n",
        "    for name, group in grouped:\n",
        "        value_counts = Counter(group[sensitive_attribute])\n",
        "        if len(value_counts) < l:\n",
        "            return False\n",
        "    return True\n",
        "quasi_identifiers = ['Generalized_Age', 'Generalized_Zipcode']\n",
        "sensitive_attribute = 'Disease'\n",
        "l_value = 2 # Ensuring at least 2 different diseases per group\n",
        "is_l_diverse = check_l_diversity(anonymized_data, quasi_identifiers, sensitive_attribute, l_value)\n",
        "print(\"\\nDoes the dataset satisfy l-Diversity (l=2)?\", is_l_diverse)"
      ],
      "metadata": {
        "colab": {
          "base_uri": "https://localhost:8080/"
        },
        "id": "_DUKtgAWmUcv",
        "outputId": "5799ae12-fbc0-4c39-920c-79ae01aa9974"
      },
      "execution_count": null,
      "outputs": [
        {
          "output_type": "stream",
          "name": "stdout",
          "text": [
            "Original Dataset:\n",
            "   Age Zipcode   Disease\n",
            "0   25   12345       Flu\n",
            "1   26   12346      Cold\n",
            "2   27   12345    Cancer\n",
            "3   27   12345       Flu\n",
            "4   28   12346      Cold\n",
            "5   29   12346  Diabetes\n",
            "6   30   12347       Flu\n",
            "7   30   12347      Cold\n",
            "8   31   12348    Cancer\n",
            "9   31   12348  Diabetes\n",
            "\n",
            "After Applying k-Anonymity:\n",
            "    Disease Generalized_Age Generalized_Zipcode\n",
            "0       Flu           25-29               345XX\n",
            "1      Cold           25-29               346XX\n",
            "2    Cancer           25-29               345XX\n",
            "3       Flu           25-29               345XX\n",
            "4      Cold           25-29               346XX\n",
            "5  Diabetes           25-29               346XX\n",
            "6       Flu           30-34               347XX\n",
            "7      Cold           30-34               347XX\n",
            "8    Cancer           30-34               348XX\n",
            "9  Diabetes           30-34               348XX\n",
            "\n",
            "Does the dataset satisfy l-Diversity (l=2)? True\n"
          ]
        }
      ]
    }
  ]
}