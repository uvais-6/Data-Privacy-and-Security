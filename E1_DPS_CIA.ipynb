{
  "nbformat": 4,
  "nbformat_minor": 0,
  "metadata": {
    "colab": {
      "provenance": [],
      "authorship_tag": "ABX9TyO6/9mveomT9fXO8S6ZMRIK",
      "include_colab_link": true
    },
    "kernelspec": {
      "name": "python3",
      "display_name": "Python 3"
    },
    "language_info": {
      "name": "python"
    }
  },
  "cells": [
    {
      "cell_type": "markdown",
      "metadata": {
        "id": "view-in-github",
        "colab_type": "text"
      },
      "source": [
        "<a href=\"https://colab.research.google.com/github/uvais-6/Data-Privacy-and-Security/blob/main/E1_DPS_CIA.ipynb\" target=\"_parent\"><img src=\"https://colab.research.google.com/assets/colab-badge.svg\" alt=\"Open In Colab\"/></a>"
      ]
    },
    {
      "source": [
        "# Caesar Cipher for Confidentiality\n",
        "# Function to encrypt plaintext using Caesar Cipher\n",
        "def caesar_cipher_encrypt(plain_text, shift):\n",
        "    encrypted_text = \"\"\n",
        "    for char in plain_text:\n",
        "        if char.isalpha():\n",
        "            shift_base = 65 if char.isupper() else 97  # Handle uppercase and lowercase letters\n",
        "            encrypted_text += chr((ord(char) - shift_base + shift) % 26 + shift_base) # Corrected indentation\n",
        "        else:\n",
        "            encrypted_text += char  # Non-alphabetic characters (like spaces or punctuation) are not changed\n",
        "    return encrypted_text\n",
        "\n",
        "# Function to decrypt Caesar Cipher\n",
        "def caesar_cipher_decrypt(encrypted_text, shift):\n",
        "    return caesar_cipher_encrypt(encrypted_text, -shift) # Decrypt by shifting in the opposite direction\n",
        "\n",
        "# Example usage\n",
        "plain_text = \"abc12\"\n",
        "shift = 3  # Number of positions to shift for encryption\n",
        "\n",
        "# Encrypt the plain text\n",
        "encrypted_text = caesar_cipher_encrypt(plain_text, shift)\n",
        "# Decrypt the encrypted text\n",
        "decrypted_text = caesar_cipher_decrypt(encrypted_text, shift)\n",
        "\n",
        "# Output\n",
        "print(\"Plaintext: \", plain_text)\n",
        "print(\"Encrypted Text: \", encrypted_text)\n",
        "print(\"Decrypted Text: \", decrypted_text)"
      ],
      "cell_type": "code",
      "metadata": {
        "colab": {
          "base_uri": "https://localhost:8080/"
        },
        "id": "-S1Vt2O47Bxq",
        "outputId": "633ef083-cc80-4e79-b5d7-0af25ddb6403"
      },
      "execution_count": 5,
      "outputs": [
        {
          "output_type": "stream",
          "name": "stdout",
          "text": [
            "Plaintext:  abc12\n",
            "Encrypted Text:  def12\n",
            "Decrypted Text:  abc12\n"
          ]
        }
      ]
    },
    {
      "cell_type": "code",
      "source": [
        "import hashlib\n",
        "\n",
        "# Function to calculate the hash of a given text (using SHA-256)\n",
        "def calculate_hash(text):\n",
        "   # Use SHA-256 hashing algorithm\n",
        "   hash_object = hashlib.sha256(text.encode())  # Encode the string into bytes\n",
        "   hash_hex = hash_object.hexdigest()  # Get the hexadecimal representation of the hash\n",
        "   return hash_hex\n",
        "\n",
        "# Function to check if the integrity of the data has been preserved\n",
        "def check_integrity(original_text, received_text):\n",
        "   # Calculate the hash of both the original text and the received text\n",
        "   original_hash = calculate_hash(original_text)\n",
        "   received_hash = calculate_hash(received_text)\n",
        "\n",
        "   # If the hashes are the same, integrity is preserved\n",
        "   if original_hash == received_hash:\n",
        "       return True  # Integrity is intact\n",
        "   else:\n",
        "       return False  # Integrity has been compromised\n",
        "\n",
        "# Example usage\n",
        "original_text = \"This is the original message.\"\n",
        "modified_text = \"This is the modified message.\"  # Modified version\n",
        "\n",
        "# Calculate hash for the original message\n",
        "original_hash = calculate_hash(original_text)\n",
        "\n",
        "# Check integrity of the original text and the modified text\n",
        "is_integrity_preserved = check_integrity(original_text, modified_text)\n",
        "\n",
        "# Output\n",
        "print(\"Original Text Hash:\", original_hash)\n",
        "print(\"Modified Text Hash:\", calculate_hash(modified_text))\n",
        "print(\"Is integrity preserved?\", is_integrity_preserved)"
      ],
      "metadata": {
        "colab": {
          "base_uri": "https://localhost:8080/"
        },
        "id": "VK6u4aFi7G-v",
        "outputId": "a5324d1e-a22f-40fb-bad7-53e5b1a9a7f2"
      },
      "execution_count": 6,
      "outputs": [
        {
          "output_type": "stream",
          "name": "stdout",
          "text": [
            "Original Text Hash: 881c14ba070a8fbd78d3393ad3b1b10a02da5f140d6ba6ec17503d856592c2c8\n",
            "Modified Text Hash: 670b3849dd138f0f45013b8a0dedd1e285fa5257f215512847c38863b89ef640\n",
            "Is integrity preserved? False\n"
          ]
        }
      ]
    },
    {
      "cell_type": "code",
      "source": [
        "# Caesar Cipher for Confidentiality and Availability\n",
        "\n",
        "# Function to encrypt plaintext using Caesar Cipher\n",
        "def caesar_cipher_encrypt(plain_text, shift):\n",
        "    encrypted_text = \"\"\n",
        "    for char in plain_text:\n",
        "        if char.isalpha():\n",
        "            shift_base = 65 if char.isupper() else 97  # Handle uppercase and lowercase letters\n",
        "            encrypted_text += chr((ord(char) - shift_base + shift) % 26 + shift_base)\n",
        "        else:\n",
        "            encrypted_text += char  # Non-alphabetic characters (like spaces or punctuation) are not changed\n",
        "    return encrypted_text\n",
        "\n",
        "# Function to decrypt Caesar Cipher\n",
        "def caesar_cipher_decrypt(encrypted_text, shift):\n",
        "    decrypted_text = \"\"\n",
        "    for char in encrypted_text:\n",
        "        if char.isalpha():\n",
        "            shift_base = 65 if char.isupper() else 97\n",
        "            decrypted_text += chr((ord(char) - shift_base - shift) % 26 + shift_base)\n",
        "        else:\n",
        "            decrypted_text += char  # Non-alphabetic characters remain unchanged\n",
        "    return decrypted_text\n",
        "\n",
        "# Example usage\n",
        "plain_text = \"Ensure Data Availability!\"\n",
        "shift = 3  # Number of positions to shift for encryption\n",
        "\n",
        "# Encrypt the plain text\n",
        "encrypted_text = caesar_cipher_encrypt(plain_text, shift)\n",
        "print(\"Encrypted Text:\", encrypted_text)\n",
        "\n",
        "# Decrypt the encrypted text (Availability: Ensuring it's accessible)\n",
        "decrypted_text = caesar_cipher_decrypt(encrypted_text, shift)\n",
        "print(\"Decrypted Text (Availability):\", decrypted_text)\n",
        "\n",
        "# Availability is demonstrated by ensuring that the encrypted data can be decrypted and is accessible when needed\n"
      ],
      "metadata": {
        "colab": {
          "base_uri": "https://localhost:8080/"
        },
        "id": "gqNYDgxD7NpS",
        "outputId": "362e79e1-ed4c-4fa0-a9d2-81e8e3bcf05b"
      },
      "execution_count": 7,
      "outputs": [
        {
          "output_type": "stream",
          "name": "stdout",
          "text": [
            "Encrypted Text: Hqvxuh Gdwd Dydlodelolwb!\n",
            "Decrypted Text (Availability): Ensure Data Availability!\n"
          ]
        }
      ]
    },
    {
      "cell_type": "code",
      "source": [
        "# Caesar Cipher for Alphanumeric Values\n",
        "# Function to encrypt plaintext using Caesar Cipher\n",
        "def caesar_cipher_encrypt_alphanumeric(plain_text, shift):\n",
        "    encrypted_text = \"\"\n",
        "    for char in plain_text:\n",
        "        if char.isalpha():  # Handle alphabetic characters\n",
        "            shift_base = 65 if char.isupper() else 97  # Handle uppercase and lowercase letters\n",
        "            encrypted_text += chr((ord(char) - shift_base + shift) % 26 + shift_base)\n",
        "        elif char.isdigit():  # Handle numeric characters\n",
        "            encrypted_text += chr((ord(char) - 48 + shift) % 10 + 48)\n",
        "        else:\n",
        "            encrypted_text += char  # Non-alphanumeric characters remain unchanged\n",
        "    return encrypted_text\n",
        "\n",
        "# Function to decrypt Caesar Cipher\n",
        "def caesar_cipher_decrypt_alphanumeric(encrypted_text, shift):\n",
        "    return caesar_cipher_encrypt_alphanumeric(encrypted_text, -shift)  # Decrypt by shifting in the opposite direction\n",
        "\n",
        "# Example usage\n",
        "plain_text = \"Hello1236465\"\n",
        "shift = 3  # Number of positions to shift for encryption\n",
        "\n",
        "# Encrypt the plain text\n",
        "encrypted_text = caesar_cipher_encrypt_alphanumeric(plain_text, shift)\n",
        "# Decrypt the encrypted text\n",
        "decrypted_text = caesar_cipher_decrypt_alphanumeric(encrypted_text, shift)\n",
        "\n",
        "# Output\n",
        "print(\"Plaintext: \", plain_text)\n",
        "print(\"Encrypted Text: \", encrypted_text)\n",
        "print(\"Decrypted Text: \", decrypted_text)\n"
      ],
      "metadata": {
        "colab": {
          "base_uri": "https://localhost:8080/"
        },
        "id": "0-bdeMyW7SCZ",
        "outputId": "6d7f97ee-2046-428a-8d84-2cef35b7a709"
      },
      "execution_count": 8,
      "outputs": [
        {
          "output_type": "stream",
          "name": "stdout",
          "text": [
            "Plaintext:  Hello1236465\n",
            "Encrypted Text:  Khoor4569798\n",
            "Decrypted Text:  Hello1236465\n"
          ]
        }
      ]
    },
    {
      "cell_type": "code",
      "source": [],
      "metadata": {
        "id": "gDMY1ou47Tn1"
      },
      "execution_count": null,
      "outputs": []
    }
  ]
}