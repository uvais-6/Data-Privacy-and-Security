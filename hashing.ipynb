{
  "nbformat": 4,
  "nbformat_minor": 0,
  "metadata": {
    "colab": {
      "provenance": [],
      "authorship_tag": "ABX9TyMwk5w+7rtuY/BPwFBoxcZt",
      "include_colab_link": true
    },
    "kernelspec": {
      "name": "python3",
      "display_name": "Python 3"
    },
    "language_info": {
      "name": "python"
    }
  },
  "cells": [
    {
      "cell_type": "markdown",
      "metadata": {
        "id": "view-in-github",
        "colab_type": "text"
      },
      "source": [
        "<a href=\"https://colab.research.google.com/github/uvais-6/Data-Privacy-and-Security/blob/main/hashing.ipynb\" target=\"_parent\"><img src=\"https://colab.research.google.com/assets/colab-badge.svg\" alt=\"Open In Colab\"/></a>"
      ]
    },
    {
      "cell_type": "code",
      "execution_count": 1,
      "metadata": {
        "colab": {
          "base_uri": "https://localhost:8080/"
        },
        "id": "SiSowxKk4LYj",
        "outputId": "3b171e12-14eb-4ca3-f103-fae65c933d4d"
      },
      "outputs": [
        {
          "output_type": "stream",
          "name": "stdout",
          "text": [
            "Input Data: Rohit is a good boy.\n",
            "SHA-256 Hash: ccff210b1e811d6ef825aae1e0f5a5fb031f0b6c4bf6fc2760489406acaa0d44\n",
            "Modified Data: Rohit is a good boy.\n",
            "Modified SHA-256 Hash: ccff210b1e811d6ef825aae1e0f5a5fb031f0b6c4bf6fc2760489406acaa0d44\n",
            "Data Integrity is not compromised\n"
          ]
        }
      ],
      "source": [
        "import hashlib\n",
        "\n",
        "def generate_sha256_hash(data):\n",
        "    hash_object = hashlib.sha256(data.encode())\n",
        "    return hash_object.hexdigest()\n",
        "\n",
        "# Test the function\n",
        "data = \"Rohit is a good boy.\"\n",
        "hash_value = generate_sha256_hash(data)\n",
        "print(\"Input Data:\", data)\n",
        "print(\"SHA-256 Hash:\", hash_value)\n",
        "\n",
        "# Verify data integrity\n",
        "modified_data = \"Rohit is a good boy.\"\n",
        "modified_hash = generate_sha256_hash(modified_data)\n",
        "print(\"Modified Data:\", modified_data)\n",
        "print(\"Modified SHA-256 Hash:\", modified_hash)\n",
        "\n",
        "# Compare hash values\n",
        "if hash_value == modified_hash:\n",
        "    print(\"Data Integrity is not compromised\")\n",
        "else:\n",
        "    print(\"Data Integrity Compromised!\")\n",
        "\n",
        "\n"
      ]
    }
  ]
}