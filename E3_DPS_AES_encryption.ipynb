{
  "nbformat": 4,
  "nbformat_minor": 0,
  "metadata": {
    "colab": {
      "provenance": [],
      "authorship_tag": "ABX9TyM50xX0TEgrI+bnJ+cSEG+B",
      "include_colab_link": true
    },
    "kernelspec": {
      "name": "python3",
      "display_name": "Python 3"
    },
    "language_info": {
      "name": "python"
    }
  },
  "cells": [
    {
      "cell_type": "markdown",
      "metadata": {
        "id": "view-in-github",
        "colab_type": "text"
      },
      "source": [
        "<a href=\"https://colab.research.google.com/github/uvais-6/Data-Privacy-and-Security/blob/main/E3_DPS_AES_encryption.ipynb\" target=\"_parent\"><img src=\"https://colab.research.google.com/assets/colab-badge.svg\" alt=\"Open In Colab\"/></a>"
      ]
    },
    {
      "cell_type": "markdown",
      "source": [
        "** Implementation and verifying AES encryption, a symmetric encryption algorithm, to\n",
        "encrypt and decrypt data**"
      ],
      "metadata": {
        "id": "NyubHC0j-HvH"
      }
    },
    {
      "source": [
        "!pip install pycryptodome"
      ],
      "cell_type": "code",
      "metadata": {
        "colab": {
          "base_uri": "https://localhost:8080/"
        },
        "id": "kqGQeyN5BOAX",
        "outputId": "0b9b653c-9551-4f75-cd9e-1119a49cb40f"
      },
      "execution_count": null,
      "outputs": [
        {
          "output_type": "stream",
          "name": "stdout",
          "text": [
            "Collecting pycryptodome\n",
            "  Downloading pycryptodome-3.21.0-cp36-abi3-manylinux_2_17_x86_64.manylinux2014_x86_64.whl.metadata (3.4 kB)\n",
            "Downloading pycryptodome-3.21.0-cp36-abi3-manylinux_2_17_x86_64.manylinux2014_x86_64.whl (2.3 MB)\n",
            "\u001b[2K   \u001b[90m━━━━━━━━━━━━━━━━━━━━━━━━━━━━━━━━━━━━━━━━\u001b[0m \u001b[32m2.3/2.3 MB\u001b[0m \u001b[31m18.6 MB/s\u001b[0m eta \u001b[36m0:00:00\u001b[0m\n",
            "\u001b[?25hInstalling collected packages: pycryptodome\n",
            "Successfully installed pycryptodome-3.21.0\n"
          ]
        }
      ]
    },
    {
      "source": [
        "from Crypto.Cipher import AES\n",
        "from Crypto.Util.Padding import pad, unpad\n",
        "from Crypto.Random import get_random_bytes\n",
        "\n",
        "def aes_encrypt_decrypt():\n",
        "    # Step 1: Define plaintext and generate a key\n",
        "    plaintext = b\"This is a secret message to be encrypted.\" # Message to encrypt\n",
        "    key = get_random_bytes(16) # AES-128 requires a 16-byte key\n",
        "    # Step 2: Pad plaintext to match AES block size (16 bytes)\n",
        "    padded_plaintext = pad(plaintext, AES.block_size)\n",
        "    # Step 3: Generate a random Initialization Vector (IV)\n",
        "    iv = get_random_bytes(AES.block_size)\n",
        "    #Step 4: Encrypt the plaintext using AES-CBC mode\n",
        "    cipher = AES.new(key, AES.MODE_CBC, iv)\n",
        "    ciphertext = cipher.encrypt(padded_plaintext)\n",
        "    # Display the encrypted data\n",
        "    print(\"Original Plaintext:\", plaintext.decode())\n",
        "    print(\"Padded Plaintext:\", padded_plaintext)\n",
        "    print(\"Ciphertext (Hex):\", ciphertext.hex())\n",
        "    print(\"-\" * 50)\n",
        "    #Step 5: Decrypt the ciphertext\n",
        "    cipher_decrypt = AES.new(key, AES.MODE_CBC, iv) # Use the same key and IV\n",
        "    decrypted_data = cipher_decrypt.decrypt(ciphertext)\n",
        "    # Unpad the decrypted data\n",
        "    decrypted_plaintext = unpad(decrypted_data, AES.block_size)\n",
        "    # Display the decrypted data\n",
        "    print(\"Decrypted Plaintext:\", decrypted_plaintext.decode())\n",
        "# Run the encryption and decryption process\n",
        "if __name__ == \"__main__\":\n",
        "    aes_encrypt_decrypt()"
      ],
      "cell_type": "code",
      "metadata": {
        "colab": {
          "base_uri": "https://localhost:8080/"
        },
        "id": "P887ayZDBOSN",
        "outputId": "d2f8f6cb-a246-476b-f2a7-e47b46c5346b"
      },
      "execution_count": null,
      "outputs": [
        {
          "output_type": "stream",
          "name": "stdout",
          "text": [
            "Original Plaintext: This is a secret message to be encrypted.\n",
            "Padded Plaintext: b'This is a secret message to be encrypted.\\x07\\x07\\x07\\x07\\x07\\x07\\x07'\n",
            "Ciphertext (Hex): 63b7d99a6679a4509224a1ca81254bac1bab6573630efa349e435866bb4669e635d9bacdf2e34b6f95249eac850bc8a7\n",
            "--------------------------------------------------\n",
            "Decrypted Plaintext: This is a secret message to be encrypted.\n"
          ]
        }
      ]
    }
  ]
}